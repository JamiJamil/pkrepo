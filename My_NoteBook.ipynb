{
  "metadata": {
    "language_info": {
      "codemirror_mode": {
        "name": "python",
        "version": 3
      },
      "file_extension": ".py",
      "mimetype": "text/x-python",
      "name": "python",
      "nbconvert_exporter": "python",
      "pygments_lexer": "ipython3",
      "version": "3.8"
    },
    "kernelspec": {
      "name": "python",
      "display_name": "Pyolite",
      "language": "python"
    }
  },
  "nbformat_minor": 4,
  "nbformat": 4,
  "cells": [
    {
      "cell_type": "markdown",
      "source": "# My Jupyter Notebook on IBM Watson Studio",
      "metadata": {}
    },
    {
      "cell_type": "markdown",
      "source": "__Muhammad Jamil__  \nAdministrative job",
      "metadata": {}
    },
    {
      "cell_type": "markdown",
      "source": "*I am interested in data science because it is new area in computer science.*",
      "metadata": {}
    },
    {
      "cell_type": "markdown",
      "source": "### Summation of two numbers",
      "metadata": {}
    },
    {
      "cell_type": "code",
      "source": "1+1",
      "metadata": {},
      "execution_count": null,
      "outputs": [
        {
          "execution_count": 6,
          "output_type": "execute_result",
          "data": {
            "text/plain": "2"
          },
          "metadata": {}
        }
      ]
    },
    {
      "cell_type": "markdown",
      "source": "### horizontal rule",
      "metadata": {}
    },
    {
      "cell_type": "markdown",
      "source": "***",
      "metadata": {}
    },
    {
      "cell_type": "markdown",
      "source": "### bulleted list",
      "metadata": {}
    },
    {
      "cell_type": "markdown",
      "source": "* Pakistan\n* India",
      "metadata": {}
    },
    {
      "cell_type": "markdown",
      "source": "### numbered list",
      "metadata": {}
    },
    {
      "cell_type": "markdown",
      "source": "1. IBM\n2. Microsoft",
      "metadata": {}
    },
    {
      "cell_type": "markdown",
      "source": "### hyperlink",
      "metadata": {}
    },
    {
      "cell_type": "markdown",
      "source": "[Virtual University](https://www.vu.edu.pk/)",
      "metadata": {}
    },
    {
      "cell_type": "markdown",
      "source": "### blocked quotes",
      "metadata": {}
    },
    {
      "cell_type": "markdown",
      "source": "> Block Qoutes",
      "metadata": {}
    },
    {
      "cell_type": "code",
      "source": "",
      "metadata": {},
      "execution_count": null,
      "outputs": []
    }
  ]
}